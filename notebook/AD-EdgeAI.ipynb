{
 "cells": [
  {
   "cell_type": "markdown",
   "id": "c1fb85d3",
   "metadata": {},
   "source": [
    "# Edge AI Anomaly Detection"
   ]
  },
  {
   "cell_type": "markdown",
   "id": "71ba420e",
   "metadata": {},
   "source": [
    "## Overview\n",
    "\n",
    "This document contains the code for our EclipseCON 2022 Talk: \"_How to Train Your Dragon and Its Friends: AI on the Edge with Eclipse Kura&trade;_\"\n",
    "\n",
    "In this notebook we'll cover:\n",
    "- **Data collection**: how to retrieve training data from the field leveragin Eclipse Kura&trade; and Eclipse Kapua&trade;\n",
    "- **Data exploration**: how to explore our training data and manipulate them to make them suitable for training\n",
    "- **Model training**: how we can create a simple Autoencoder in Keras and how to train it\n",
    "- **Model performance evaluation**: how can we ensure the model was trained correctly\n",
    "- **Model conversion**: how we can convert the model to make it suitable for running on Eclipse Kura&trade; and Nvidia Triton&trade;\n",
    "- **Model deployment**: how can we deploy our model on our final device and use it for real-time anomaly detection"
   ]
  },
  {
   "cell_type": "markdown",
   "id": "4f6bab6e",
   "metadata": {},
   "source": [
    "## Data collection"
   ]
  },
  {
   "cell_type": "markdown",
   "id": "c3e065b2",
   "metadata": {},
   "source": [
    "[WIP]"
   ]
  },
  {
   "cell_type": "markdown",
   "id": "85e4a8e2",
   "metadata": {},
   "source": [
    "## Data Exploration"
   ]
  },
  {
   "cell_type": "markdown",
   "id": "7fee784c",
   "metadata": {},
   "source": [
    "We can now work on our `.csv` file downloaded from Kapua. For demonstration purposes a copy is provided within this repository."
   ]
  },
  {
   "cell_type": "code",
   "execution_count": 4,
   "id": "bceb58e1",
   "metadata": {},
   "outputs": [
    {
     "name": "stdout",
     "output_type": "stream",
     "text": [
      "train-data-raw.csv\r\n"
     ]
    }
   ],
   "source": [
    "!ls *.csv"
   ]
  },
  {
   "cell_type": "code",
   "execution_count": null,
   "id": "a56e979a",
   "metadata": {},
   "outputs": [],
   "source": []
  }
 ],
 "metadata": {
  "kernelspec": {
   "display_name": "Python 3 (ipykernel)",
   "language": "python",
   "name": "python3"
  },
  "language_info": {
   "codemirror_mode": {
    "name": "ipython",
    "version": 3
   },
   "file_extension": ".py",
   "mimetype": "text/x-python",
   "name": "python",
   "nbconvert_exporter": "python",
   "pygments_lexer": "ipython3",
   "version": "3.9.13"
  }
 },
 "nbformat": 4,
 "nbformat_minor": 5
}
