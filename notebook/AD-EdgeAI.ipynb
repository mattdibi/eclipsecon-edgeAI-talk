{
 "cells": [
  {
   "cell_type": "markdown",
   "id": "a0379056",
   "metadata": {},
   "source": [
    "# Edge AI Anomaly Detection"
   ]
  },
  {
   "cell_type": "markdown",
   "id": "f20d00d7",
   "metadata": {},
   "source": [
    "## Overview\n",
    "\n",
    "This document contains the code for our EclipseCON 2022 Talk: \"_How to Train Your Dragon and Its Friends: AI on the Edge with Eclipse Kura_\"\n",
    "\n",
    "In this notebook we'll cover:\n",
    "- **Data collection**: how to retrieve training data from the field leveragin Eclipse Kura and Eclipse Kapua\n",
    "- **Data exploration**: how to explore our training data and manipulate them to make them suitable for training\n",
    "- **Model training**: how we can create a simple Autoencoder in Keras and how to train it\n",
    "- **Model performance evaluation**: how can we ensure the model was trained correctly\n",
    "- **Model conversion**: how we can convert the model to make it suitable for running on Eclipse Kura + Nvidia Triton\n",
    "- **Model deployment**: how can we deploy our model on our final device and use it for real-time anomaly detection"
   ]
  },
  {
   "cell_type": "code",
   "execution_count": null,
   "id": "789afad5",
   "metadata": {},
   "outputs": [],
   "source": []
  }
 ],
 "metadata": {
  "kernelspec": {
   "display_name": "Python 3 (ipykernel)",
   "language": "python",
   "name": "python3"
  },
  "language_info": {
   "codemirror_mode": {
    "name": "ipython",
    "version": 3
   },
   "file_extension": ".py",
   "mimetype": "text/x-python",
   "name": "python",
   "nbconvert_exporter": "python",
   "pygments_lexer": "ipython3",
   "version": "3.9.13"
  }
 },
 "nbformat": 4,
 "nbformat_minor": 5
}
