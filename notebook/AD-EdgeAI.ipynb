{
 "cells": [
  {
   "cell_type": "markdown",
   "id": "74600d4c",
   "metadata": {},
   "source": [
    "# Edge AI Anomaly Detection"
   ]
  },
  {
   "cell_type": "markdown",
   "id": "5f536ae1",
   "metadata": {},
   "source": [
    "## Overview\n",
    "\n",
    "This document contains the code for our EclipseCON 2022 Talk: \"_How to Train Your Dragon and Its Friends: AI on the Edge with Eclipse Kura&trade;_\"\n",
    "\n",
    "In this notebook we'll cover:\n",
    "- **Data collection**: how to retrieve training data from the field leveraging Eclipse Kura&trade; and Eclipse Kapua&trade;\n",
    "- **Data processing**: how to explore our training data and manipulate them to make them suitable for training (feature selection, scaling and dataset splitting). This will provide us with the \"_Preprocessing_\" stage of the AI pipeline\n",
    "- **Model training**: how we can create a simple Autoencoder in Keras and how to train it. This will provide us with the \"_Inference_\" stage of the AI pipeline\n",
    "- **Model evaluation**: how can we extract the high level data from the model output and ensure the model was trained correctly. This will provide us with the \"_Postprocessing_\" stage of the AI pipeline\n",
    "- **Model deployment**: how we can convert the model to make it suitable for running on Eclipse Kura&trade; and Nvidia Triton&trade; and deploy it on the edge."
   ]
  },
  {
   "cell_type": "markdown",
   "id": "de578854",
   "metadata": {},
   "source": [
    "---"
   ]
  },
  {
   "cell_type": "markdown",
   "id": "5f1c0157",
   "metadata": {},
   "source": [
    "## Data collection"
   ]
  },
  {
   "cell_type": "markdown",
   "id": "d22d130b",
   "metadata": {},
   "source": [
    "[WIP]"
   ]
  },
  {
   "cell_type": "markdown",
   "id": "264c9984",
   "metadata": {},
   "source": [
    "---"
   ]
  },
  {
   "cell_type": "markdown",
   "id": "51d243fa",
   "metadata": {},
   "source": [
    "## Data Processing"
   ]
  },
  {
   "cell_type": "markdown",
   "id": "55a09146",
   "metadata": {},
   "source": [
    "We can now work on our `.csv` file downloaded from Kapua. For demonstration purposes a copy is provided within this repository."
   ]
  },
  {
   "cell_type": "code",
   "execution_count": null,
   "id": "e652ecbf",
   "metadata": {},
   "outputs": [],
   "source": [
    "!ls *.csv"
   ]
  },
  {
   "cell_type": "markdown",
   "id": "aa0e401f",
   "metadata": {},
   "source": [
    "Let's start taking a look at the content of this dataset, we'll use [pandas](https://pandas.pydata.org/) (Python Data Analysis library) for this.\n",
    "\n",
    "As you might notice we're already taking away some features from the dataset (through the `usecols` parameter of the `read_csv` function). This is because there's some information in the dataset we don't care about (`ID` and the timestamps, for example, are not meaningful for our application)."
   ]
  },
  {
   "cell_type": "code",
   "execution_count": 1,
   "id": "95543e8e",
   "metadata": {},
   "outputs": [
    {
     "data": {
      "text/html": [
       "<div>\n",
       "<style scoped>\n",
       "    .dataframe tbody tr th:only-of-type {\n",
       "        vertical-align: middle;\n",
       "    }\n",
       "\n",
       "    .dataframe tbody tr th {\n",
       "        vertical-align: top;\n",
       "    }\n",
       "\n",
       "    .dataframe thead th {\n",
       "        text-align: right;\n",
       "    }\n",
       "</style>\n",
       "<table border=\"1\" class=\"dataframe\">\n",
       "  <thead>\n",
       "    <tr style=\"text-align: right;\">\n",
       "      <th></th>\n",
       "      <th>ID</th>\n",
       "      <th>TIMESTAMP</th>\n",
       "      <th>MAGNET_X</th>\n",
       "      <th>TEMP_HUM_timestamp</th>\n",
       "      <th>MAGNET_Z</th>\n",
       "      <th>MAGNET_Y</th>\n",
       "      <th>ACC_Y</th>\n",
       "      <th>ACC_X</th>\n",
       "      <th>GYRO_Y_timestamp</th>\n",
       "      <th>ACC_Z</th>\n",
       "      <th>...</th>\n",
       "      <th>PRESSURE_timestamp</th>\n",
       "      <th>MAGNET_X_timestamp</th>\n",
       "      <th>ACC_X_timestamp</th>\n",
       "      <th>GYRO_Z_timestamp</th>\n",
       "      <th>HUMIDITY_timestamp</th>\n",
       "      <th>assetName</th>\n",
       "      <th>ACC_Z_timestamp</th>\n",
       "      <th>GYRO_X</th>\n",
       "      <th>GYRO_Y</th>\n",
       "      <th>GYRO_Z</th>\n",
       "    </tr>\n",
       "  </thead>\n",
       "  <tbody>\n",
       "    <tr>\n",
       "      <th>0</th>\n",
       "      <td>1</td>\n",
       "      <td>1645778791786</td>\n",
       "      <td>-2.680372</td>\n",
       "      <td>1645778791413</td>\n",
       "      <td>5.036951</td>\n",
       "      <td>8.646852</td>\n",
       "      <td>0.004364</td>\n",
       "      <td>0.080122</td>\n",
       "      <td>1645778791413</td>\n",
       "      <td>0.984048</td>\n",
       "      <td>...</td>\n",
       "      <td>1645778791413</td>\n",
       "      <td>1645778791413</td>\n",
       "      <td>1645778791413</td>\n",
       "      <td>1645778791413</td>\n",
       "      <td>1645778791413</td>\n",
       "      <td>asset-sensehat</td>\n",
       "      <td>1645778791413</td>\n",
       "      <td>0.053243</td>\n",
       "      <td>0.028920</td>\n",
       "      <td>0.036950</td>\n",
       "    </tr>\n",
       "    <tr>\n",
       "      <th>1</th>\n",
       "      <td>2</td>\n",
       "      <td>1645778792381</td>\n",
       "      <td>-3.110756</td>\n",
       "      <td>1645778792378</td>\n",
       "      <td>5.952562</td>\n",
       "      <td>10.521458</td>\n",
       "      <td>0.005091</td>\n",
       "      <td>0.080122</td>\n",
       "      <td>1645778792378</td>\n",
       "      <td>0.992090</td>\n",
       "      <td>...</td>\n",
       "      <td>1645778792378</td>\n",
       "      <td>1645778792378</td>\n",
       "      <td>1645778792378</td>\n",
       "      <td>1645778792378</td>\n",
       "      <td>1645778792378</td>\n",
       "      <td>asset-sensehat</td>\n",
       "      <td>1645778792378</td>\n",
       "      <td>-0.051105</td>\n",
       "      <td>-0.028920</td>\n",
       "      <td>-0.037256</td>\n",
       "    </tr>\n",
       "    <tr>\n",
       "      <th>2</th>\n",
       "      <td>3</td>\n",
       "      <td>1645778793412</td>\n",
       "      <td>-3.482263</td>\n",
       "      <td>1645778793408</td>\n",
       "      <td>6.719675</td>\n",
       "      <td>11.944528</td>\n",
       "      <td>0.005334</td>\n",
       "      <td>0.080122</td>\n",
       "      <td>1645778793408</td>\n",
       "      <td>0.986729</td>\n",
       "      <td>...</td>\n",
       "      <td>1645778793408</td>\n",
       "      <td>1645778793408</td>\n",
       "      <td>1645778793408</td>\n",
       "      <td>1645778793408</td>\n",
       "      <td>1645778793408</td>\n",
       "      <td>asset-sensehat</td>\n",
       "      <td>1645778793408</td>\n",
       "      <td>-0.025253</td>\n",
       "      <td>0.025560</td>\n",
       "      <td>0.038478</td>\n",
       "    </tr>\n",
       "    <tr>\n",
       "      <th>3</th>\n",
       "      <td>4</td>\n",
       "      <td>1645778794411</td>\n",
       "      <td>-3.813552</td>\n",
       "      <td>1645778794407</td>\n",
       "      <td>7.375115</td>\n",
       "      <td>13.093461</td>\n",
       "      <td>0.006061</td>\n",
       "      <td>0.080122</td>\n",
       "      <td>1645778794407</td>\n",
       "      <td>0.990384</td>\n",
       "      <td>...</td>\n",
       "      <td>1645778794407</td>\n",
       "      <td>1645778794407</td>\n",
       "      <td>1645778794407</td>\n",
       "      <td>1645778794407</td>\n",
       "      <td>1645778794407</td>\n",
       "      <td>asset-sensehat</td>\n",
       "      <td>1645778794407</td>\n",
       "      <td>0.100695</td>\n",
       "      <td>-0.023422</td>\n",
       "      <td>-0.037867</td>\n",
       "    </tr>\n",
       "    <tr>\n",
       "      <th>4</th>\n",
       "      <td>5</td>\n",
       "      <td>1645778795411</td>\n",
       "      <td>-4.050513</td>\n",
       "      <td>1645778795407</td>\n",
       "      <td>7.854155</td>\n",
       "      <td>14.029530</td>\n",
       "      <td>0.004849</td>\n",
       "      <td>0.080607</td>\n",
       "      <td>1645778795407</td>\n",
       "      <td>0.988922</td>\n",
       "      <td>...</td>\n",
       "      <td>1645778795407</td>\n",
       "      <td>1645778795407</td>\n",
       "      <td>1645778795407</td>\n",
       "      <td>1645778795407</td>\n",
       "      <td>1645778795407</td>\n",
       "      <td>asset-sensehat</td>\n",
       "      <td>1645778795407</td>\n",
       "      <td>-0.100389</td>\n",
       "      <td>0.021895</td>\n",
       "      <td>0.038172</td>\n",
       "    </tr>\n",
       "  </tbody>\n",
       "</table>\n",
       "<p>5 rows × 29 columns</p>\n",
       "</div>"
      ],
      "text/plain": [
       "   ID      TIMESTAMP  MAGNET_X  TEMP_HUM_timestamp  MAGNET_Z   MAGNET_Y  \\\n",
       "0   1  1645778791786 -2.680372       1645778791413  5.036951   8.646852   \n",
       "1   2  1645778792381 -3.110756       1645778792378  5.952562  10.521458   \n",
       "2   3  1645778793412 -3.482263       1645778793408  6.719675  11.944528   \n",
       "3   4  1645778794411 -3.813552       1645778794407  7.375115  13.093461   \n",
       "4   5  1645778795411 -4.050513       1645778795407  7.854155  14.029530   \n",
       "\n",
       "      ACC_Y     ACC_X  GYRO_Y_timestamp     ACC_Z  ...  PRESSURE_timestamp  \\\n",
       "0  0.004364  0.080122     1645778791413  0.984048  ...       1645778791413   \n",
       "1  0.005091  0.080122     1645778792378  0.992090  ...       1645778792378   \n",
       "2  0.005334  0.080122     1645778793408  0.986729  ...       1645778793408   \n",
       "3  0.006061  0.080122     1645778794407  0.990384  ...       1645778794407   \n",
       "4  0.004849  0.080607     1645778795407  0.988922  ...       1645778795407   \n",
       "\n",
       "   MAGNET_X_timestamp  ACC_X_timestamp  GYRO_Z_timestamp  HUMIDITY_timestamp  \\\n",
       "0       1645778791413    1645778791413     1645778791413       1645778791413   \n",
       "1       1645778792378    1645778792378     1645778792378       1645778792378   \n",
       "2       1645778793408    1645778793408     1645778793408       1645778793408   \n",
       "3       1645778794407    1645778794407     1645778794407       1645778794407   \n",
       "4       1645778795407    1645778795407     1645778795407       1645778795407   \n",
       "\n",
       "        assetName  ACC_Z_timestamp    GYRO_X    GYRO_Y    GYRO_Z  \n",
       "0  asset-sensehat    1645778791413  0.053243  0.028920  0.036950  \n",
       "1  asset-sensehat    1645778792378 -0.051105 -0.028920 -0.037256  \n",
       "2  asset-sensehat    1645778793408 -0.025253  0.025560  0.038478  \n",
       "3  asset-sensehat    1645778794407  0.100695 -0.023422 -0.037867  \n",
       "4  asset-sensehat    1645778795407 -0.100389  0.021895  0.038172  \n",
       "\n",
       "[5 rows x 29 columns]"
      ]
     },
     "execution_count": 1,
     "metadata": {},
     "output_type": "execute_result"
    }
   ],
   "source": [
    "import pandas as pd\n",
    "\n",
    "raw_data = pd.read_csv(\"./train-data-raw.csv\")\n",
    "\n",
    "raw_data.head()"
   ]
  },
  {
   "cell_type": "markdown",
   "id": "40d037a7",
   "metadata": {},
   "source": [
    "### Feature selection\n",
    "\n",
    "As you might notice there's some information in the dataset we don't care about and are not meaningful for our application:\n",
    "- `ID`\n",
    "- The various `timestamps`\n",
    "- `assetName` which doesn't change\n",
    "\n",
    "Then we can remove them from the dataset."
   ]
  },
  {
   "cell_type": "code",
   "execution_count": 2,
   "id": "ba782ee7",
   "metadata": {
    "scrolled": true
   },
   "outputs": [
    {
     "data": {
      "text/html": [
       "<div>\n",
       "<style scoped>\n",
       "    .dataframe tbody tr th:only-of-type {\n",
       "        vertical-align: middle;\n",
       "    }\n",
       "\n",
       "    .dataframe tbody tr th {\n",
       "        vertical-align: top;\n",
       "    }\n",
       "\n",
       "    .dataframe thead th {\n",
       "        text-align: right;\n",
       "    }\n",
       "</style>\n",
       "<table border=\"1\" class=\"dataframe\">\n",
       "  <thead>\n",
       "    <tr style=\"text-align: right;\">\n",
       "      <th></th>\n",
       "      <th>ACC_Y</th>\n",
       "      <th>ACC_X</th>\n",
       "      <th>ACC_Z</th>\n",
       "      <th>PRESSURE</th>\n",
       "      <th>TEMP_PRESS</th>\n",
       "      <th>TEMP_HUM</th>\n",
       "      <th>HUMIDITY</th>\n",
       "      <th>GYRO_X</th>\n",
       "      <th>GYRO_Y</th>\n",
       "      <th>GYRO_Z</th>\n",
       "    </tr>\n",
       "  </thead>\n",
       "  <tbody>\n",
       "    <tr>\n",
       "      <th>0</th>\n",
       "      <td>0.004364</td>\n",
       "      <td>0.080122</td>\n",
       "      <td>0.984048</td>\n",
       "      <td>992.322998</td>\n",
       "      <td>38.724998</td>\n",
       "      <td>40.330822</td>\n",
       "      <td>19.487146</td>\n",
       "      <td>0.053243</td>\n",
       "      <td>0.028920</td>\n",
       "      <td>0.036950</td>\n",
       "    </tr>\n",
       "    <tr>\n",
       "      <th>1</th>\n",
       "      <td>0.005091</td>\n",
       "      <td>0.080122</td>\n",
       "      <td>0.992090</td>\n",
       "      <td>992.288330</td>\n",
       "      <td>38.772915</td>\n",
       "      <td>40.385788</td>\n",
       "      <td>19.465750</td>\n",
       "      <td>-0.051105</td>\n",
       "      <td>-0.028920</td>\n",
       "      <td>-0.037256</td>\n",
       "    </tr>\n",
       "    <tr>\n",
       "      <th>2</th>\n",
       "      <td>0.005334</td>\n",
       "      <td>0.080122</td>\n",
       "      <td>0.986729</td>\n",
       "      <td>992.275635</td>\n",
       "      <td>38.795834</td>\n",
       "      <td>40.349144</td>\n",
       "      <td>19.572731</td>\n",
       "      <td>-0.025253</td>\n",
       "      <td>0.025560</td>\n",
       "      <td>0.038478</td>\n",
       "    </tr>\n",
       "    <tr>\n",
       "      <th>3</th>\n",
       "      <td>0.006061</td>\n",
       "      <td>0.080122</td>\n",
       "      <td>0.990384</td>\n",
       "      <td>992.279053</td>\n",
       "      <td>38.797916</td>\n",
       "      <td>40.330822</td>\n",
       "      <td>19.358767</td>\n",
       "      <td>0.100695</td>\n",
       "      <td>-0.023422</td>\n",
       "      <td>-0.037867</td>\n",
       "    </tr>\n",
       "    <tr>\n",
       "      <th>4</th>\n",
       "      <td>0.004849</td>\n",
       "      <td>0.080607</td>\n",
       "      <td>0.988922</td>\n",
       "      <td>992.333008</td>\n",
       "      <td>38.845833</td>\n",
       "      <td>40.385788</td>\n",
       "      <td>19.390862</td>\n",
       "      <td>-0.100389</td>\n",
       "      <td>0.021895</td>\n",
       "      <td>0.038172</td>\n",
       "    </tr>\n",
       "  </tbody>\n",
       "</table>\n",
       "</div>"
      ],
      "text/plain": [
       "      ACC_Y     ACC_X     ACC_Z    PRESSURE  TEMP_PRESS   TEMP_HUM   HUMIDITY  \\\n",
       "0  0.004364  0.080122  0.984048  992.322998   38.724998  40.330822  19.487146   \n",
       "1  0.005091  0.080122  0.992090  992.288330   38.772915  40.385788  19.465750   \n",
       "2  0.005334  0.080122  0.986729  992.275635   38.795834  40.349144  19.572731   \n",
       "3  0.006061  0.080122  0.990384  992.279053   38.797916  40.330822  19.358767   \n",
       "4  0.004849  0.080607  0.988922  992.333008   38.845833  40.385788  19.390862   \n",
       "\n",
       "     GYRO_X    GYRO_Y    GYRO_Z  \n",
       "0  0.053243  0.028920  0.036950  \n",
       "1 -0.051105 -0.028920 -0.037256  \n",
       "2 -0.025253  0.025560  0.038478  \n",
       "3  0.100695 -0.023422 -0.037867  \n",
       "4 -0.100389  0.021895  0.038172  "
      ]
     },
     "execution_count": 2,
     "metadata": {},
     "output_type": "execute_result"
    }
   ],
   "source": [
    "features = ['ACC_Y', 'ACC_X', 'ACC_Z',\n",
    "            'PRESSURE', 'TEMP_PRESS', 'TEMP_HUM',\n",
    "            'HUMIDITY', 'GYRO_X', 'GYRO_Y', 'GYRO_Z']\n",
    "\n",
    "data = raw_data[features]\n",
    "\n",
    "data.head()"
   ]
  },
  {
   "cell_type": "code",
   "execution_count": 3,
   "id": "b043ff81",
   "metadata": {},
   "outputs": [
    {
     "data": {
      "image/png": "[encoded data removed]",
      "text/plain": [
       "<Figure size 2000x1500 with 12 Axes>"
      ]
     },
     "metadata": {},
     "output_type": "display_data"
    }
   ],
   "source": [
    "%matplotlib inline\n",
    "import matplotlib.pyplot as plt\n",
    "\n",
    "data.hist(bins=50, figsize=(20,15))\n",
    "plt.show()"
   ]
  },
  {
   "cell_type": "markdown",
   "id": "c893251c",
   "metadata": {},
   "source": [
    "### Feature scaling\n",
    "\n",
    "AI models don't perform well when the input numerical attributes have very different scales. As you can see `ACC_X`, `ACC_Y` and `ACC_Z` range from 0 to 1, while the `PRESSURE` have far higher values.\n",
    "\n",
    "There are two common ways to address this: _normalization_ and _standardization_.\n",
    "\n",
    "_Normalization_ (a.k.a. Min-max scaling) shifts and rescales values so that they end up ranging from 0 to 1. This can be done by subtracting the min value and dividing by the max minus the min.\n",
    "\n",
    "x' = $\\frac{x - min(x)}{max(x) - min(x)}$\n",
    "\n",
    "_Standardization_ makes the values of each feature in the data have zero-mean (when subtracting the mean in the numerator) and unit-variance. The general method of calculation is to determine the distribution mean and standard deviation for each feature. Next we subtract the mean from each feature. Then we divide the values (mean is already subtracted) of each feature by its standard deviation.\n",
    "\n",
    "x' = $\\frac{x - avg(x)}{\\sigma}$\n",
    "\n",
    "Fortunately for us [scikit-learn](https://scikit-learn.org/stable/) library provides a function for both of them. In this case we'll use _normalization_ because it works well for this application."
   ]
  },
  {
   "cell_type": "code",
   "execution_count": 4,
   "id": "2bfcd859",
   "metadata": {},
   "outputs": [],
   "source": [
    "from sklearn.preprocessing import MinMaxScaler\n",
    "\n",
    "scaler = MinMaxScaler()\n",
    "scaled_data = scaler.fit_transform(data.to_numpy())"
   ]
  },
  {
   "cell_type": "code",
   "execution_count": 5,
   "id": "76a5713e",
   "metadata": {},
   "outputs": [
    {
     "data": {
      "text/html": [
       "<div>\n",
       "<style scoped>\n",
       "    .dataframe tbody tr th:only-of-type {\n",
       "        vertical-align: middle;\n",
       "    }\n",
       "\n",
       "    .dataframe tbody tr th {\n",
       "        vertical-align: top;\n",
       "    }\n",
       "\n",
       "    .dataframe thead th {\n",
       "        text-align: right;\n",
       "    }\n",
       "</style>\n",
       "<table border=\"1\" class=\"dataframe\">\n",
       "  <thead>\n",
       "    <tr style=\"text-align: right;\">\n",
       "      <th></th>\n",
       "      <th>0</th>\n",
       "      <th>1</th>\n",
       "      <th>2</th>\n",
       "      <th>3</th>\n",
       "      <th>4</th>\n",
       "      <th>5</th>\n",
       "      <th>6</th>\n",
       "      <th>7</th>\n",
       "      <th>8</th>\n",
       "      <th>9</th>\n",
       "    </tr>\n",
       "  </thead>\n",
       "  <tbody>\n",
       "    <tr>\n",
       "      <th>count</th>\n",
       "      <td>25278.000000</td>\n",
       "      <td>25278.000000</td>\n",
       "      <td>25278.000000</td>\n",
       "      <td>25278.000000</td>\n",
       "      <td>25278.000000</td>\n",
       "      <td>25278.000000</td>\n",
       "      <td>25278.000000</td>\n",
       "      <td>25278.000000</td>\n",
       "      <td>25278.000000</td>\n",
       "      <td>25278.000000</td>\n",
       "    </tr>\n",
       "    <tr>\n",
       "      <th>mean</th>\n",
       "      <td>0.603124</td>\n",
       "      <td>0.674196</td>\n",
       "      <td>0.550454</td>\n",
       "      <td>0.526446</td>\n",
       "      <td>0.605576</td>\n",
       "      <td>0.552252</td>\n",
       "      <td>0.466400</td>\n",
       "      <td>0.501160</td>\n",
       "      <td>0.545457</td>\n",
       "      <td>0.271295</td>\n",
       "    </tr>\n",
       "    <tr>\n",
       "      <th>std</th>\n",
       "      <td>0.049333</td>\n",
       "      <td>0.015135</td>\n",
       "      <td>0.031627</td>\n",
       "      <td>0.054050</td>\n",
       "      <td>0.288300</td>\n",
       "      <td>0.256587</td>\n",
       "      <td>0.176293</td>\n",
       "      <td>0.062908</td>\n",
       "      <td>0.067678</td>\n",
       "      <td>0.014665</td>\n",
       "    </tr>\n",
       "    <tr>\n",
       "      <th>min</th>\n",
       "      <td>0.000000</td>\n",
       "      <td>0.000000</td>\n",
       "      <td>0.000000</td>\n",
       "      <td>0.000000</td>\n",
       "      <td>0.000000</td>\n",
       "      <td>0.000000</td>\n",
       "      <td>0.000000</td>\n",
       "      <td>0.000000</td>\n",
       "      <td>0.000000</td>\n",
       "      <td>0.000000</td>\n",
       "    </tr>\n",
       "    <tr>\n",
       "      <th>25%</th>\n",
       "      <td>0.597087</td>\n",
       "      <td>0.667343</td>\n",
       "      <td>0.544924</td>\n",
       "      <td>0.481917</td>\n",
       "      <td>0.501060</td>\n",
       "      <td>0.441442</td>\n",
       "      <td>0.325637</td>\n",
       "      <td>0.501348</td>\n",
       "      <td>0.544670</td>\n",
       "      <td>0.270709</td>\n",
       "    </tr>\n",
       "    <tr>\n",
       "      <th>50%</th>\n",
       "      <td>0.603534</td>\n",
       "      <td>0.673413</td>\n",
       "      <td>0.551342</td>\n",
       "      <td>0.521377</td>\n",
       "      <td>0.655357</td>\n",
       "      <td>0.608108</td>\n",
       "      <td>0.511715</td>\n",
       "      <td>0.501841</td>\n",
       "      <td>0.547096</td>\n",
       "      <td>0.271685</td>\n",
       "    </tr>\n",
       "    <tr>\n",
       "      <th>75%</th>\n",
       "      <td>0.611055</td>\n",
       "      <td>0.680698</td>\n",
       "      <td>0.555426</td>\n",
       "      <td>0.552892</td>\n",
       "      <td>0.819339</td>\n",
       "      <td>0.734234</td>\n",
       "      <td>0.575212</td>\n",
       "      <td>0.502407</td>\n",
       "      <td>0.549386</td>\n",
       "      <td>0.272577</td>\n",
       "    </tr>\n",
       "    <tr>\n",
       "      <th>max</th>\n",
       "      <td>1.000000</td>\n",
       "      <td>1.000000</td>\n",
       "      <td>1.000000</td>\n",
       "      <td>1.000000</td>\n",
       "      <td>1.000000</td>\n",
       "      <td>1.000000</td>\n",
       "      <td>1.000000</td>\n",
       "      <td>1.000000</td>\n",
       "      <td>1.000000</td>\n",
       "      <td>1.000000</td>\n",
       "    </tr>\n",
       "  </tbody>\n",
       "</table>\n",
       "</div>"
      ],
      "text/plain": [
       "                  0             1             2             3             4  \\\n",
       "count  25278.000000  25278.000000  25278.000000  25278.000000  25278.000000   \n",
       "mean       0.603124      0.674196      0.550454      0.526446      0.605576   \n",
       "std        0.049333      0.015135      0.031627      0.054050      0.288300   \n",
       "min        0.000000      0.000000      0.000000      0.000000      0.000000   \n",
       "25%        0.597087      0.667343      0.544924      0.481917      0.501060   \n",
       "50%        0.603534      0.673413      0.551342      0.521377      0.655357   \n",
       "75%        0.611055      0.680698      0.555426      0.552892      0.819339   \n",
       "max        1.000000      1.000000      1.000000      1.000000      1.000000   \n",
       "\n",
       "                  5             6             7             8             9  \n",
       "count  25278.000000  25278.000000  25278.000000  25278.000000  25278.000000  \n",
       "mean       0.552252      0.466400      0.501160      0.545457      0.271295  \n",
       "std        0.256587      0.176293      0.062908      0.067678      0.014665  \n",
       "min        0.000000      0.000000      0.000000      0.000000      0.000000  \n",
       "25%        0.441442      0.325637      0.501348      0.544670      0.270709  \n",
       "50%        0.608108      0.511715      0.501841      0.547096      0.271685  \n",
       "75%        0.734234      0.575212      0.502407      0.549386      0.272577  \n",
       "max        1.000000      1.000000      1.000000      1.000000      1.000000  "
      ]
     },
     "execution_count": 5,
     "metadata": {},
     "output_type": "execute_result"
    }
   ],
   "source": [
    "pd.DataFrame(scaled_data).describe()"
   ]
  },
  {
   "cell_type": "markdown",
   "id": "39cd09e7",
   "metadata": {},
   "source": [
    "### Train test split\n",
    "\n",
    "The only way to know how well a model will generalize to new data points is to try it on new data. To do so we split our data into two sets: the training set and the test set.\n",
    "\n",
    "To do so we'll use a function from `scikit-learn`."
   ]
  },
  {
   "cell_type": "code",
   "execution_count": 6,
   "id": "d51c753b",
   "metadata": {},
   "outputs": [],
   "source": [
    "from sklearn.model_selection import train_test_split\n",
    "import numpy as np\n",
    "\n",
    "x_train, x_test = train_test_split(scaled_data, test_size=0.3, random_state=42)\n",
    "x_train = x_train.astype(np.float32)\n",
    "x_test = x_test.astype(np.float32)"
   ]
  },
  {
   "cell_type": "markdown",
   "id": "24f45b25",
   "metadata": {},
   "source": [
    "---"
   ]
  },
  {
   "cell_type": "markdown",
   "id": "d0d817ad",
   "metadata": {},
   "source": [
    "## Model training\n",
    "\n",
    "We can now leverage the [Keras](https://keras.io/) API of [Tensorflow](https://www.tensorflow.org/) for creating our Autoencoder and then train it on our dataset.\n",
    "\n",
    "In this example we'll use a basic fully-connected autoencoder."
   ]
  },
  {
   "cell_type": "code",
   "execution_count": 7,
   "id": "a2966fc6",
   "metadata": {},
   "outputs": [],
   "source": [
    "import os\n",
    "os.environ['TF_CPP_MIN_LOG_LEVEL']='2' # Avoid AVX2 error\n",
    "\n",
    "from tensorflow.keras.models import Model\n",
    "from tensorflow.keras.layers import Input, Dense, Dropout\n",
    "\n",
    "def create_model(input_dim):\n",
    "    # Latent space dimension\n",
    "    latent_dim = 4\n",
    "\n",
    "    # The encoder will consist of a number of dense layers that decrease in size\n",
    "    # as we taper down towards the bottleneck of the network, the latent space\n",
    "    input_data = Input(shape=(input_dim,), name='INPUT0')\n",
    "\n",
    "    # hidden layers\n",
    "    encoder = Dense(24, activation='tanh', name='encoder_1')(input_data)\n",
    "    encoder = Dropout(.15)(encoder)\n",
    "    encoder = Dense(16, activation='tanh', name='encoder_2')(encoder)\n",
    "    encoder = Dropout(.15)(encoder)\n",
    "\n",
    "    # bottleneck layer\n",
    "    latent_encoding = Dense(latent_dim, activation='linear', name='latent_encoding')(encoder)\n",
    "\n",
    "    # The decoder network is a mirror image of the encoder network\n",
    "    decoder = Dense(16, activation='tanh', name='decoder_1')(latent_encoding)\n",
    "    decoder = Dropout(.15)(decoder)\n",
    "    decoder = Dense(24, activation='tanh', name='decoder_2')(decoder)\n",
    "    decoder = Dropout(.15)(decoder)\n",
    "\n",
    "    # The output is the same dimension as the input data we are reconstructing\n",
    "    reconstructed_data = Dense(input_dim, activation='linear', name='OUTPUT0')(decoder)\n",
    "\n",
    "    autoencoder_model = Model(input_data, reconstructed_data)\n",
    "\n",
    "    return autoencoder_model"
   ]
  },
  {
   "cell_type": "code",
   "execution_count": 8,
   "id": "b1a63862",
   "metadata": {},
   "outputs": [],
   "source": [
    "autoencoder_model = create_model(len(features))"
   ]
  },
  {
   "cell_type": "code",
   "execution_count": 37,
   "id": "05a12480",
   "metadata": {},
   "outputs": [
    {
     "name": "stdout",
     "output_type": "stream",
     "text": [
      "Model: \"model\"\n",
      "_________________________________________________________________\n",
      " Layer (type)                Output Shape              Param #   \n",
      "=================================================================\n",
      " INPUT0 (InputLayer)         [(None, 10)]              0         \n",
      "                                                                 \n",
      " encoder_1 (Dense)           (None, 24)                264       \n",
      "                                                                 \n",
      " dropout (Dropout)           (None, 24)                0         \n",
      "                                                                 \n",
      " encoder_2 (Dense)           (None, 16)                400       \n",
      "                                                                 \n",
      " dropout_1 (Dropout)         (None, 16)                0         \n",
      "                                                                 \n",
      " latent_encoding (Dense)     (None, 4)                 68        \n",
      "                                                                 \n",
      " decoder_1 (Dense)           (None, 16)                80        \n",
      "                                                                 \n",
      " dropout_2 (Dropout)         (None, 16)                0         \n",
      "                                                                 \n",
      " decoder_2 (Dense)           (None, 24)                408       \n",
      "                                                                 \n",
      " dropout_3 (Dropout)         (None, 24)                0         \n",
      "                                                                 \n",
      " OUTPUT0 (Dense)             (None, 10)                250       \n",
      "                                                                 \n",
      "=================================================================\n",
      "Total params: 1,470\n",
      "Trainable params: 1,470\n",
      "Non-trainable params: 0\n",
      "_________________________________________________________________\n"
     ]
    }
   ],
   "source": [
    "autoencoder_model.summary()"
   ]
  },
  {
   "cell_type": "markdown",
   "id": "eddde0e8",
   "metadata": {},
   "source": [
    "### Model training\n",
    "\n",
    "As we already explained in the presentation, the autoencoder is a  type of artificial neural network used to learn efficient codings of unlabeled data. We'll use that to reconstruct the input at the output. Being trained on the \"normal\" data of the system, it won't be able to reconstruct correctly \"anomalous\" data and thus will work as an anomaly detector.\n",
    "\n",
    "Our loss function, which we need to minimize during our training, is the error between the _input data_ and the _data reconstructed by the autoencoder_. We'll use the mean squared error."
   ]
  },
  {
   "cell_type": "code",
   "execution_count": 10,
   "id": "99f9e045",
   "metadata": {},
   "outputs": [
    {
     "name": "stdout",
     "output_type": "stream",
     "text": [
      "Epoch 1/10\n",
      "277/277 [==============================] - 1s 3ms/step - loss: 0.3186 - accuracy: 0.0777 - val_loss: 0.0999 - val_accuracy: 0.1578\n",
      "Epoch 2/10\n",
      "277/277 [==============================] - 1s 2ms/step - loss: 0.1009 - accuracy: 0.1122 - val_loss: 0.0254 - val_accuracy: 0.3117\n",
      "Epoch 3/10\n",
      "277/277 [==============================] - 0s 2ms/step - loss: 0.0651 - accuracy: 0.1648 - val_loss: 0.0174 - val_accuracy: 0.3089\n",
      "Epoch 4/10\n",
      "277/277 [==============================] - 0s 2ms/step - loss: 0.0535 - accuracy: 0.1945 - val_loss: 0.0149 - val_accuracy: 0.3099\n",
      "Epoch 5/10\n",
      "277/277 [==============================] - 0s 2ms/step - loss: 0.0457 - accuracy: 0.2248 - val_loss: 0.0123 - val_accuracy: 0.5108\n",
      "Epoch 6/10\n",
      "277/277 [==============================] - 0s 2ms/step - loss: 0.0390 - accuracy: 0.2498 - val_loss: 0.0093 - val_accuracy: 0.6457\n",
      "Epoch 7/10\n",
      "277/277 [==============================] - 0s 2ms/step - loss: 0.0331 - accuracy: 0.2847 - val_loss: 0.0066 - val_accuracy: 0.6692\n",
      "Epoch 8/10\n",
      "277/277 [==============================] - 0s 2ms/step - loss: 0.0280 - accuracy: 0.3367 - val_loss: 0.0050 - val_accuracy: 0.6808\n",
      "Epoch 9/10\n",
      "277/277 [==============================] - 0s 2ms/step - loss: 0.0243 - accuracy: 0.3818 - val_loss: 0.0043 - val_accuracy: 0.7960\n",
      "Epoch 10/10\n",
      "277/277 [==============================] - 0s 2ms/step - loss: 0.0210 - accuracy: 0.4144 - val_loss: 0.0040 - val_accuracy: 0.8095\n"
     ]
    },
    {
     "data": {
      "text/plain": [
       "<keras.callbacks.History at 0x1635da790>"
      ]
     },
     "execution_count": 10,
     "metadata": {},
     "output_type": "execute_result"
    }
   ],
   "source": [
    "from tensorflow.keras import optimizers\n",
    "\n",
    "batch_size = 64\n",
    "max_epochs = 10\n",
    "learning_rate = .0001\n",
    "\n",
    "opt = optimizers.Adam(learning_rate=learning_rate)\n",
    "autoencoder_model.compile(optimizer=opt, loss='mse', metrics=['accuracy'])\n",
    "autoencoder_model.fit(x_train, x_train,\n",
    "                      shuffle=True,\n",
    "                      epochs=max_epochs,\n",
    "                      batch_size=batch_size,\n",
    "                      validation_data=(x_test, x_test))"
   ]
  },
  {
   "cell_type": "markdown",
   "id": "731c0aa7",
   "metadata": {},
   "source": [
    "We can save the model on disk as we'll use this later."
   ]
  },
  {
   "cell_type": "code",
   "execution_count": 11,
   "id": "f9467e00",
   "metadata": {},
   "outputs": [
    {
     "name": "stderr",
     "output_type": "stream",
     "text": [
      "WARNING:absl:Function `_wrapped_model` contains input name(s) INPUT0 with unsupported characters which will be renamed to input0 in the SavedModel.\n"
     ]
    },
    {
     "name": "stdout",
     "output_type": "stream",
     "text": [
      "INFO:tensorflow:Assets written to: ./saved_model/autoencoder/assets\n"
     ]
    },
    {
     "name": "stderr",
     "output_type": "stream",
     "text": [
      "INFO:tensorflow:Assets written to: ./saved_model/autoencoder/assets\n"
     ]
    }
   ],
   "source": [
    "autoencoder_model.save(\"./saved_model/autoencoder\")"
   ]
  },
  {
   "cell_type": "code",
   "execution_count": 12,
   "id": "5aa085a9",
   "metadata": {},
   "outputs": [
    {
     "name": "stdout",
     "output_type": "stream",
     "text": [
      "\u001b[1m\u001b[36massets\u001b[m\u001b[m            keras_metadata.pb saved_model.pb    \u001b[1m\u001b[36mvariables\u001b[m\u001b[m\r\n"
     ]
    }
   ],
   "source": [
    "!ls ./saved_model/autoencoder"
   ]
  },
  {
   "cell_type": "markdown",
   "id": "9315d9c4",
   "metadata": {},
   "source": [
    "---"
   ]
  },
  {
   "cell_type": "markdown",
   "id": "82840c5f",
   "metadata": {},
   "source": [
    "## Model evaluation\n",
    "\n",
    "We now have a model that reconstruct the input at the output... doesn't sounds really useful right?\n",
    "\n",
    "Let's see it in action. Let's take a sample from the test set and run it through our autoencoder."
   ]
  },
  {
   "cell_type": "code",
   "execution_count": 54,
   "id": "08aa28ad",
   "metadata": {},
   "outputs": [
    {
     "name": "stdout",
     "output_type": "stream",
     "text": [
      "1/1 [==============================] - 0s 22ms/step\n",
      "[[0.603534   0.6770555  0.54900813 0.5327966  0.6680801  0.6171171\n",
      "  0.5198642  0.50135666 0.54716927 0.2718224 ]]\n",
      "[[0.59628457 0.672222   0.54944056 0.51685745 0.6323804  0.5684962\n",
      "  0.45321336 0.5037341  0.54495    0.2738853 ]]\n"
     ]
    }
   ],
   "source": [
    "input_sample = x_test[3:4].copy() # Deep copy\n",
    "\n",
    "reconstructed_sample = autoencoder_model.predict(input_sample)\n",
    "\n",
    "print(input_sample)\n",
    "print(reconstructed_sample)"
   ]
  },
  {
   "cell_type": "code",
   "execution_count": 70,
   "id": "0593fff3",
   "metadata": {},
   "outputs": [
    {
     "data": {
      "text/plain": [
       "<matplotlib.legend.Legend at 0x16696d340>"
      ]
     },
     "execution_count": 70,
     "metadata": {},
     "output_type": "execute_result"
    },
    {
     "data": {
      "image/png": "[encoded data removed]",
      "text/plain": [
       "<Figure size 640x480 with 1 Axes>"
      ]
     },
     "metadata": {},
     "output_type": "display_data"
    }
   ],
   "source": [
    "import matplotlib.pyplot as plt\n",
    "\n",
    "index = np.arange(10)\n",
    "bar_width = 0.35\n",
    "\n",
    "figure, ax = plt.subplots()\n",
    "\n",
    "inbar = ax.bar(index, input_sample[0], bar_width, label=\"Input data\")\n",
    "recbar = ax.bar(index+bar_width, reconstructed_sample[0], bar_width, label=\"Reconstruced data\")\n",
    "\n",
    "ax.set_xlabel('Features')\n",
    "ax.set_xticks(index + bar_width / 2)\n",
    "ax.set_xticklabels(features, rotation = 45)\n",
    "ax.legend()"
   ]
  },
  {
   "cell_type": "markdown",
   "id": "ccc54d84",
   "metadata": {},
   "source": [
    "What happens if we manipulate this sample in a way the autoencoder doesn't expect?\n",
    "\n",
    "Let's try and set the `ACC_Z` to a value the autoencoder has never seen before."
   ]
  },
  {
   "cell_type": "code",
   "execution_count": 40,
   "id": "d3360fe2",
   "metadata": {},
   "outputs": [
    {
     "name": "stdout",
     "output_type": "stream",
     "text": [
      "1/1 [==============================] - 0s 23ms/step\n",
      "[[0.603534   0.6770555  0.3        0.5327966  0.6680801  0.6171171\n",
      "  0.5198642  0.50135666 0.54716927 0.2718224 ]]\n",
      "[[0.58800817 0.64615357 0.52430195 0.4933016  0.5962665  0.53596616\n",
      "  0.43386045 0.4869592  0.5238275  0.2688104 ]]\n"
     ]
    }
   ],
   "source": [
    "input_anomaly = input_sample.copy() # Deep copy\n",
    "\n",
    "input_anomaly[0][2] = 0.3\n",
    "\n",
    "reconstructed_anomaly = autoencoder_model.predict(input_anomaly)\n",
    "\n",
    "print(input_anomaly)\n",
    "print(reconstructed_anomaly)"
   ]
  },
  {
   "cell_type": "code",
   "execution_count": 71,
   "id": "4b8f233d",
   "metadata": {},
   "outputs": [
    {
     "data": {
      "text/plain": [
       "<matplotlib.legend.Legend at 0x166a2f5e0>"
      ]
     },
     "execution_count": 71,
     "metadata": {},
     "output_type": "execute_result"
    },
    {
     "data": {
      "image/png": "[encoded data removed]",
      "text/plain": [
       "<Figure size 640x480 with 1 Axes>"
      ]
     },
     "metadata": {},
     "output_type": "display_data"
    }
   ],
   "source": [
    "figure, ax = plt.subplots()\n",
    "\n",
    "inbar = ax.bar(index, input_anomaly[0], bar_width, label=\"Input anomaly\")\n",
    "recbar = ax.bar(index+bar_width, reconstructed_anomaly[0], bar_width, label=\"Reconstruced anomaly\")\n",
    "\n",
    "ax.set_xlabel('Features')\n",
    "ax.set_xticks(index + bar_width / 2)\n",
    "ax.set_xticklabels(features, rotation = 45)\n",
    "ax.legend()"
   ]
  },
  {
   "cell_type": "markdown",
   "id": "f2297cd0",
   "metadata": {},
   "source": [
    "The autoencoder fails to reconstruct the data it received at the input. This means that the reconstruction error is very high."
   ]
  },
  {
   "cell_type": "code",
   "execution_count": 42,
   "id": "4dd832c4",
   "metadata": {},
   "outputs": [
    {
     "name": "stdout",
     "output_type": "stream",
     "text": [
      "Anomaly 0.007297.6\n",
      "Normal  0.000843.6\n"
     ]
    }
   ],
   "source": [
    "from sklearn.metrics import mean_squared_error\n",
    "\n",
    "print(\"Anomaly %f.6\"% mean_squared_error(input_anomaly[0], reconstructed_anomaly[0]))\n",
    "print(\"Normal  %f.6\"% mean_squared_error(input_sample[0], reconstructed_sample[0]))"
   ]
  },
  {
   "cell_type": "markdown",
   "id": "41c93a2a",
   "metadata": {},
   "source": [
    "It's working as expected!\n",
    "\n",
    "We now need to decide when to trigger an alarm (i.e. classify an input sample as anomalous) from this data. A common strategy is to comput the max value of the reconstruction error in the test set and set a threshold based on this value."
   ]
  },
  {
   "cell_type": "code",
   "execution_count": 43,
   "id": "566a4895",
   "metadata": {},
   "outputs": [
    {
     "name": "stdout",
     "output_type": "stream",
     "text": [
      "237/237 [==============================] - 0s 731us/step\n",
      "       recon_score\n",
      "count  7584.000000\n",
      "mean      0.003958\n",
      "std       0.005663\n",
      "min       0.000108\n",
      "25%       0.001030\n",
      "50%       0.002090\n",
      "75%       0.003714\n",
      "max       0.105607\n"
     ]
    }
   ],
   "source": [
    "x_test_recon = autoencoder_model.predict(x_test)\n",
    "reconstruction_scores = np.mean((x_test - x_test_recon)**2, axis=1)  # MSE\n",
    "\n",
    "anomaly_data = pd.DataFrame({'recon_score': reconstruction_scores})\n",
    "print(anomaly_data.describe())"
   ]
  },
  {
   "cell_type": "code",
   "execution_count": 44,
   "id": "a5721ec2",
   "metadata": {},
   "outputs": [
    {
     "name": "stdout",
     "output_type": "stream",
     "text": [
      "Anomaly score threshold: 0.158410\n"
     ]
    }
   ],
   "source": [
    "alpha = 1.5\n",
    "threshold = np.max(reconstruction_scores) * alpha\n",
    "print(\"Anomaly score threshold: %f\" % threshold)"
   ]
  },
  {
   "cell_type": "markdown",
   "id": "3b33b681",
   "metadata": {},
   "source": [
    "We now have our anomaly detector, we need to deploy it on our Kura device."
   ]
  },
  {
   "cell_type": "markdown",
   "id": "7d5c9260",
   "metadata": {},
   "source": [
    "---"
   ]
  },
  {
   "cell_type": "markdown",
   "id": "1220463a",
   "metadata": {},
   "source": [
    "## Model deployment\n",
    "\n",
    "[WIP]"
   ]
  },
  {
   "cell_type": "code",
   "execution_count": null,
   "id": "e954bbd3",
   "metadata": {},
   "outputs": [],
   "source": []
  }
 ],
 "metadata": {
  "kernelspec": {
   "display_name": "Python 3 (ipykernel)",
   "language": "python",
   "name": "python3"
  },
  "language_info": {
   "codemirror_mode": {
    "name": "ipython",
    "version": 3
   },
   "file_extension": ".py",
   "mimetype": "text/x-python",
   "name": "python",
   "nbconvert_exporter": "python",
   "pygments_lexer": "ipython3",
   "version": "3.9.13"
  }
 },
 "nbformat": 4,
 "nbformat_minor": 5
}
